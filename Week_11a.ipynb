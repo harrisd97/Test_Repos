{
 "cells": [
  {
   "cell_type": "markdown",
   "metadata": {},
   "source": [
    "## Week 11a: SQLite database"
   ]
  },
  {
   "cell_type": "code",
   "execution_count": 1,
   "metadata": {
    "tags": []
   },
   "outputs": [],
   "source": [
    "import sqlite3\n",
    "import csv "
   ]
  },
  {
   "cell_type": "markdown",
   "metadata": {},
   "source": [
    "#### Establish a connection"
   ]
  },
  {
   "cell_type": "code",
   "execution_count": 3,
   "metadata": {
    "tags": []
   },
   "outputs": [],
   "source": [
    "con = sqlite3.connect('School.db')#, autocommit=False) # If there is no database, it will create a new database of that name\n",
    "cursor = con.cursor()"
   ]
  },
  {
   "cell_type": "markdown",
   "metadata": {},
   "source": [
    "#### Create a table"
   ]
  },
  {
   "cell_type": "code",
   "execution_count": 4,
   "metadata": {
    "tags": []
   },
   "outputs": [
    {
     "data": {
      "text/plain": [
       "<sqlite3.Cursor at 0x1141a825a40>"
      ]
     },
     "execution_count": 4,
     "metadata": {},
     "output_type": "execute_result"
    }
   ],
   "source": [
    "create_table = \"\"\"CREATE TABLE students(\n",
    "                        id INTEGER PRIMARY KEY,\n",
    "                        fname TEXT,\n",
    "                        lname TEXT);\n",
    "                \"\"\"\n",
    "\n",
    "cursor.execute(create_table)"
   ]
  },
  {
   "cell_type": "markdown",
   "metadata": {},
   "source": [
    "#### Insert data"
   ]
  },
  {
   "cell_type": "code",
   "execution_count": 5,
   "metadata": {
    "tags": []
   },
   "outputs": [
    {
     "data": {
      "text/plain": [
       "<sqlite3.Cursor at 0x1141a825a40>"
      ]
     },
     "execution_count": 5,
     "metadata": {},
     "output_type": "execute_result"
    }
   ],
   "source": [
    "cursor.execute(\"INSERT INTO students VALUES (387423, 'Patrick', 'Ramos')\")"
   ]
  },
  {
   "cell_type": "markdown",
   "metadata": {},
   "source": [
    "#### Query the table"
   ]
  },
  {
   "cell_type": "code",
   "execution_count": 6,
   "metadata": {
    "tags": []
   },
   "outputs": [
    {
     "name": "stdout",
     "output_type": "stream",
     "text": [
      "(387423, 'Patrick', 'Ramos')\n"
     ]
    }
   ],
   "source": [
    "results = cursor.execute(\"SELECT * FROM students\") # This one is iterable\n",
    "\n",
    "for res in results:\n",
    "    print(res)"
   ]
  },
  {
   "cell_type": "code",
   "execution_count": 7,
   "metadata": {
    "tags": []
   },
   "outputs": [
    {
     "data": {
      "text/plain": [
       "[(387423, 'Patrick', 'Ramos')]"
      ]
     },
     "execution_count": 7,
     "metadata": {},
     "output_type": "execute_result"
    }
   ],
   "source": [
    "results = cursor.execute(\"SELECT * FROM students\").fetchall()\n",
    "results"
   ]
  },
  {
   "cell_type": "markdown",
   "metadata": {},
   "source": [
    "#### Close the connection"
   ]
  },
  {
   "cell_type": "code",
   "execution_count": 8,
   "metadata": {
    "tags": []
   },
   "outputs": [],
   "source": [
    "con.close()"
   ]
  },
  {
   "cell_type": "code",
   "execution_count": 9,
   "metadata": {
    "tags": []
   },
   "outputs": [
    {
     "ename": "ProgrammingError",
     "evalue": "Cannot operate on a closed database.",
     "output_type": "error",
     "traceback": [
      "\u001b[1;31m---------------------------------------------------------------------------\u001b[0m",
      "\u001b[1;31mProgrammingError\u001b[0m                          Traceback (most recent call last)",
      "Cell \u001b[1;32mIn[9], line 1\u001b[0m\n\u001b[1;32m----> 1\u001b[0m results \u001b[38;5;241m=\u001b[39m cursor\u001b[38;5;241m.\u001b[39mexecute(\u001b[38;5;124m\"\u001b[39m\u001b[38;5;124mSELECT * FROM students\u001b[39m\u001b[38;5;124m\"\u001b[39m)\u001b[38;5;241m.\u001b[39mfetchall()\n\u001b[0;32m      2\u001b[0m results\n",
      "\u001b[1;31mProgrammingError\u001b[0m: Cannot operate on a closed database."
     ]
    }
   ],
   "source": [
    "results = cursor.execute(\"SELECT * FROM students\").fetchall()\n",
    "results"
   ]
  },
  {
   "cell_type": "markdown",
   "metadata": {},
   "source": [
    "#### Reestablish connection"
   ]
  },
  {
   "cell_type": "code",
   "execution_count": 11,
   "metadata": {
    "tags": []
   },
   "outputs": [],
   "source": [
    "new_con = sqlite3.Connection('School.db')#, autocommit=False)\n",
    "new_cursor = new_con.cursor()"
   ]
  },
  {
   "cell_type": "code",
   "execution_count": 12,
   "metadata": {
    "tags": []
   },
   "outputs": [
    {
     "data": {
      "text/plain": [
       "[]"
      ]
     },
     "execution_count": 12,
     "metadata": {},
     "output_type": "execute_result"
    }
   ],
   "source": [
    "results = new_cursor.execute(\"SELECT * FROM students\").fetchall()\n",
    "results"
   ]
  },
  {
   "cell_type": "code",
   "execution_count": 13,
   "metadata": {
    "tags": []
   },
   "outputs": [],
   "source": [
    "new_con.close()"
   ]
  },
  {
   "cell_type": "markdown",
   "metadata": {},
   "source": [
    "#### Redo with `commit`"
   ]
  },
  {
   "cell_type": "code",
   "execution_count": 14,
   "metadata": {
    "tags": []
   },
   "outputs": [],
   "source": [
    "new_con = sqlite3.Connection('School.db')#, autocommit=False)\n",
    "new_cursor = new_con.cursor()"
   ]
  },
  {
   "cell_type": "code",
   "execution_count": 15,
   "metadata": {
    "tags": []
   },
   "outputs": [
    {
     "data": {
      "text/plain": [
       "<sqlite3.Cursor at 0x1141a7e6240>"
      ]
     },
     "execution_count": 15,
     "metadata": {},
     "output_type": "execute_result"
    }
   ],
   "source": [
    "new_cursor.execute(\"INSERT INTO students VALUES (387423, 'Patrick', 'Ramos')\")"
   ]
  },
  {
   "cell_type": "code",
   "execution_count": 17,
   "metadata": {
    "tags": []
   },
   "outputs": [],
   "source": [
    "new_con.commit()"
   ]
  },
  {
   "cell_type": "code",
   "execution_count": 18,
   "metadata": {
    "tags": []
   },
   "outputs": [],
   "source": [
    "new_con.close()"
   ]
  },
  {
   "cell_type": "code",
   "execution_count": null,
   "metadata": {},
   "outputs": [],
   "source": [
    "# Reopeoning the connection"
   ]
  },
  {
   "cell_type": "code",
   "execution_count": 19,
   "metadata": {
    "tags": []
   },
   "outputs": [],
   "source": [
    "new_con = sqlite3.Connection('School.db')#, autocommit=False)\n",
    "new_cursor = new_con.cursor()"
   ]
  },
  {
   "cell_type": "code",
   "execution_count": 20,
   "metadata": {
    "tags": []
   },
   "outputs": [
    {
     "data": {
      "text/plain": [
       "[(387423, 'Patrick', 'Ramos')]"
      ]
     },
     "execution_count": 20,
     "metadata": {},
     "output_type": "execute_result"
    }
   ],
   "source": [
    "results = new_cursor.execute(\"SELECT * FROM students\").fetchall()\n",
    "results"
   ]
  },
  {
   "cell_type": "markdown",
   "metadata": {},
   "source": [
    "#### Check if something is in process"
   ]
  },
  {
   "cell_type": "code",
   "execution_count": 22,
   "metadata": {
    "tags": []
   },
   "outputs": [
    {
     "data": {
      "text/plain": [
       "False"
      ]
     },
     "execution_count": 22,
     "metadata": {},
     "output_type": "execute_result"
    }
   ],
   "source": [
    "new_con.in_transaction"
   ]
  },
  {
   "cell_type": "code",
   "execution_count": 23,
   "metadata": {
    "tags": []
   },
   "outputs": [
    {
     "data": {
      "text/plain": [
       "0"
      ]
     },
     "execution_count": 23,
     "metadata": {},
     "output_type": "execute_result"
    }
   ],
   "source": [
    "new_con.total_changes"
   ]
  },
  {
   "cell_type": "markdown",
   "metadata": {},
   "source": [
    "#### Insert data from csv"
   ]
  },
  {
   "cell_type": "code",
   "execution_count": 28,
   "metadata": {
    "tags": []
   },
   "outputs": [
    {
     "name": "stdout",
     "output_type": "stream",
     "text": [
      "['fname', 'lname', 'ID']\n",
      "['Patrick', 'Ramos', '387423']\n",
      "['Walter', 'King', '657953']\n",
      "['Margaret', 'Brooks', '264676']\n",
      "['Betty', 'Murphy', '705400']\n",
      "['Pamela', 'Campbell', '399844']\n",
      "['Victoria', 'Lee', '669408']\n",
      "['Samantha', 'Peterson', '211134']\n",
      "['Judith', 'Mendoza', '518833']\n",
      "['Emily', 'Reed', '962205']\n",
      "['Justin', 'Kelly', '660198']\n"
     ]
    }
   ],
   "source": [
    "with open(\"students_1.csv\") as f:\n",
    "    data = csv.reader(f)\n",
    "    for row in data:\n",
    "        print(row)\n",
    "        "
   ]
  },
  {
   "cell_type": "code",
   "execution_count": 30,
   "metadata": {
    "tags": []
   },
   "outputs": [],
   "source": [
    "con = sqlite3.connect('School.db')#, autocommit=False) # If there is no database, it will create a new database of that name\n",
    "cursor = con.cursor()"
   ]
  },
  {
   "cell_type": "code",
   "execution_count": 31,
   "metadata": {
    "tags": []
   },
   "outputs": [
    {
     "ename": "IntegrityError",
     "evalue": "UNIQUE constraint failed: students.id",
     "output_type": "error",
     "traceback": [
      "\u001b[1;31m---------------------------------------------------------------------------\u001b[0m",
      "\u001b[1;31mIntegrityError\u001b[0m                            Traceback (most recent call last)",
      "Cell \u001b[1;32mIn[31], line 6\u001b[0m\n\u001b[0;32m      4\u001b[0m \u001b[38;5;28;01mif\u001b[39;00m row[\u001b[38;5;241m0\u001b[39m]\u001b[38;5;241m==\u001b[39m\u001b[38;5;124m'\u001b[39m\u001b[38;5;124mfname\u001b[39m\u001b[38;5;124m'\u001b[39m:\n\u001b[0;32m      5\u001b[0m     \u001b[38;5;28;01mcontinue\u001b[39;00m\n\u001b[1;32m----> 6\u001b[0m cursor\u001b[38;5;241m.\u001b[39mexecute(\u001b[38;5;124m\"\u001b[39m\u001b[38;5;124mINSERT INTO students VALUES (?, ?, ?)\u001b[39m\u001b[38;5;124m\"\u001b[39m, (\u001b[38;5;28mint\u001b[39m(row[\u001b[38;5;241m2\u001b[39m]), row[\u001b[38;5;241m0\u001b[39m], row[\u001b[38;5;241m1\u001b[39m]))\n",
      "\u001b[1;31mIntegrityError\u001b[0m: UNIQUE constraint failed: students.id"
     ]
    }
   ],
   "source": [
    "with open(\"students_1.csv\") as f:\n",
    "    data = csv.reader(f)\n",
    "    for row in data:\n",
    "        if row[0]=='fname':\n",
    "            continue\n",
    "        cursor.execute(\"INSERT INTO students VALUES (?, ?, ?)\", (int(row[2]), row[0], row[1]))# Instead of values we shall give question mark and give them as a tuple.\n",
    "        # This method is mainly to avoid sql injection."
   ]
  },
  {
   "cell_type": "code",
   "execution_count": 32,
   "metadata": {
    "tags": []
   },
   "outputs": [],
   "source": [
    "drop_table = \"\"\"DROP TABLE students\"\"\"\n",
    "cursor.execute(drop_table)\n",
    "con.commit()"
   ]
  },
  {
   "cell_type": "code",
   "execution_count": 33,
   "metadata": {
    "tags": []
   },
   "outputs": [
    {
     "data": {
      "text/plain": [
       "<sqlite3.Cursor at 0x1141a883e40>"
      ]
     },
     "execution_count": 33,
     "metadata": {},
     "output_type": "execute_result"
    }
   ],
   "source": [
    "create_table = \"\"\"CREATE TABLE students(\n",
    "                        id INTEGER PRIMARY KEY,\n",
    "                        fname TEXT,\n",
    "                        lname TEXT);\n",
    "                \"\"\"\n",
    "\n",
    "cursor.execute(create_table)"
   ]
  },
  {
   "cell_type": "code",
   "execution_count": 35,
   "metadata": {
    "tags": []
   },
   "outputs": [],
   "source": [
    "with open(\"students_1.csv\") as f:\n",
    "    data = csv.reader(f)\n",
    "    for row in data:\n",
    "        if row[0]=='fname':\n",
    "            continue\n",
    "        cursor.execute(\"INSERT INTO students VALUES (?, ?, ?)\", (int(row[2]), row[0], row[1]))# Instead of values we shall give question mark and give them as a tuple.\n",
    "        # This method is mainly to avoid sql injection."
   ]
  },
  {
   "cell_type": "code",
   "execution_count": 36,
   "metadata": {
    "tags": []
   },
   "outputs": [
    {
     "data": {
      "text/plain": [
       "[(211134, 'Samantha', 'Peterson'),\n",
       " (264676, 'Margaret', 'Brooks'),\n",
       " (387423, 'Patrick', 'Ramos'),\n",
       " (399844, 'Pamela', 'Campbell'),\n",
       " (518833, 'Judith', 'Mendoza'),\n",
       " (657953, 'Walter', 'King'),\n",
       " (660198, 'Justin', 'Kelly'),\n",
       " (669408, 'Victoria', 'Lee'),\n",
       " (705400, 'Betty', 'Murphy'),\n",
       " (962205, 'Emily', 'Reed')]"
      ]
     },
     "execution_count": 36,
     "metadata": {},
     "output_type": "execute_result"
    }
   ],
   "source": [
    "results = cursor.execute(\"SELECT * FROM students\").fetchall()\n",
    "results"
   ]
  },
  {
   "cell_type": "code",
   "execution_count": 37,
   "metadata": {
    "tags": []
   },
   "outputs": [],
   "source": [
    "con.commit()"
   ]
  },
  {
   "cell_type": "code",
   "execution_count": 38,
   "metadata": {
    "tags": []
   },
   "outputs": [],
   "source": [
    "con.close()"
   ]
  },
  {
   "cell_type": "markdown",
   "metadata": {},
   "source": [
    "#### Delete database"
   ]
  },
  {
   "cell_type": "markdown",
   "metadata": {},
   "source": [
    "Delete that file in the folder"
   ]
  },
  {
   "cell_type": "markdown",
   "metadata": {},
   "source": [
    "### Exercises\n",
    "\n",
    " - recreate the database called `School` with a table called `students`; add the `students_1.csv` data back into the table\n",
    " - add the students in the `students_2.csv` file to the `students` table in the database\n",
    " - in the `School` database, create a new table called `marks` and add the data in the `marks.csv`file to it"
   ]
  },
  {
   "cell_type": "code",
   "execution_count": 2,
   "metadata": {
    "tags": []
   },
   "outputs": [],
   "source": [
    "import sqlite3\n",
    "import csv "
   ]
  },
  {
   "cell_type": "code",
   "execution_count": 3,
   "metadata": {
    "tags": []
   },
   "outputs": [],
   "source": [
    "con = sqlite3.connect('School.db')\n",
    "cursor = con.cursor()"
   ]
  },
  {
   "cell_type": "code",
   "execution_count": 4,
   "metadata": {
    "tags": []
   },
   "outputs": [
    {
     "data": {
      "text/plain": [
       "<sqlite3.Cursor at 0x1b495eb58c0>"
      ]
     },
     "execution_count": 4,
     "metadata": {},
     "output_type": "execute_result"
    }
   ],
   "source": [
    "create_table = \"\"\"CREATE TABLE students(\n",
    "                        id INTEGER PRIMARY KEY,\n",
    "                        fname TEXT,\n",
    "                        lname TEXT);\n",
    "                \"\"\"\n",
    "\n",
    "cursor.execute(create_table)"
   ]
  },
  {
   "cell_type": "code",
   "execution_count": 6,
   "metadata": {
    "tags": []
   },
   "outputs": [
    {
     "data": {
      "text/plain": [
       "[]"
      ]
     },
     "execution_count": 6,
     "metadata": {},
     "output_type": "execute_result"
    }
   ],
   "source": [
    "cursor.execute(\"Select * from students\").fetchall()"
   ]
  },
  {
   "cell_type": "code",
   "execution_count": 7,
   "metadata": {
    "tags": []
   },
   "outputs": [],
   "source": [
    "with open(\"students_1.csv\") as f:\n",
    "    data = csv.reader(f)\n",
    "    for row in data:\n",
    "        if row[0]=='fname':\n",
    "            continue\n",
    "        cursor.execute(\"INSERT INTO students VALUES (?, ?, ?)\", (int(row[2]), row[0], row[1]))"
   ]
  },
  {
   "cell_type": "code",
   "execution_count": 9,
   "metadata": {
    "tags": []
   },
   "outputs": [
    {
     "data": {
      "text/plain": [
       "[(211134, 'Samantha', 'Peterson'),\n",
       " (264676, 'Margaret', 'Brooks'),\n",
       " (387423, 'Patrick', 'Ramos'),\n",
       " (399844, 'Pamela', 'Campbell'),\n",
       " (518833, 'Judith', 'Mendoza'),\n",
       " (657953, 'Walter', 'King'),\n",
       " (660198, 'Justin', 'Kelly'),\n",
       " (669408, 'Victoria', 'Lee'),\n",
       " (705400, 'Betty', 'Murphy'),\n",
       " (962205, 'Emily', 'Reed')]"
      ]
     },
     "execution_count": 9,
     "metadata": {},
     "output_type": "execute_result"
    }
   ],
   "source": [
    "cursor.execute(\"Select * from students\").fetchall()"
   ]
  },
  {
   "cell_type": "code",
   "execution_count": 10,
   "metadata": {
    "tags": []
   },
   "outputs": [],
   "source": [
    "with open(\"students_2.csv\") as f:\n",
    "    data = csv.reader(f)\n",
    "    for row in data:\n",
    "        if row[0]=='fname':\n",
    "            continue\n",
    "        cursor.execute(\"INSERT INTO students VALUES (?, ?, ?)\", (int(row[2]), row[0], row[1]))"
   ]
  },
  {
   "cell_type": "code",
   "execution_count": 12,
   "metadata": {
    "tags": []
   },
   "outputs": [
    {
     "data": {
      "text/plain": [
       "[(122942, 'Randy', 'Martinez'),\n",
       " (174267, 'Eugene', 'Hill'),\n",
       " (211134, 'Samantha', 'Peterson'),\n",
       " (223293, 'Russell', 'Williams'),\n",
       " (253798, 'Matthew', 'Collins'),\n",
       " (264676, 'Margaret', 'Brooks'),\n",
       " (329265, 'Deborah', 'Nguyen'),\n",
       " (380016, 'Tyler', 'Taylor'),\n",
       " (387423, 'Patrick', 'Ramos'),\n",
       " (399844, 'Pamela', 'Campbell'),\n",
       " (400412, 'Billy', 'Ortiz'),\n",
       " (518833, 'Judith', 'Mendoza'),\n",
       " (650755, 'John', 'Nguyen'),\n",
       " (657953, 'Walter', 'King'),\n",
       " (660198, 'Justin', 'Kelly'),\n",
       " (669408, 'Victoria', 'Lee'),\n",
       " (677895, 'Catherine', 'Cox'),\n",
       " (705400, 'Betty', 'Murphy'),\n",
       " (784736, 'Gary', 'Patel'),\n",
       " (962205, 'Emily', 'Reed')]"
      ]
     },
     "execution_count": 12,
     "metadata": {},
     "output_type": "execute_result"
    }
   ],
   "source": [
    "cursor.execute(\"Select * from students\").fetchall()"
   ]
  },
  {
   "cell_type": "code",
   "execution_count": 15,
   "metadata": {
    "tags": []
   },
   "outputs": [
    {
     "name": "stdout",
     "output_type": "stream",
     "text": [
      "['ID', 'Test_1', 'Test_2', 'Test_3']\n",
      "['387423', '31', '65', '76']\n",
      "['657953', '38', '10', '75']\n",
      "['264676', '26', '53', '58']\n",
      "['705400', '12', '40', '69']\n",
      "['399844', '3', '27', '80']\n",
      "['669408', '4', '88', '90']\n",
      "['211134', '80', '81', '55']\n",
      "['518833', '32', '35', '29']\n",
      "['962205', '58', '39', '74']\n",
      "['660198', '69', '17', '12']\n",
      "['122942', '58', '86', '77']\n",
      "['223293', '75', '53', '60']\n",
      "['329265', '91', '47', '42']\n",
      "['174267', '95', '47', '79']\n",
      "['650755', '76', '84', '22']\n",
      "['380016', '1', '62', '61']\n",
      "['677895', '20', '57', '89']\n",
      "['253798', '17', '88', '16']\n",
      "['400412', '87', '39', '86']\n",
      "['784736', '8', '30', '74']\n"
     ]
    }
   ],
   "source": [
    "with open(\"marks.csv\") as f:\n",
    "    data = csv.reader(f)\n",
    "    for row in data:\n",
    "        print(row)"
   ]
  },
  {
   "cell_type": "code",
   "execution_count": 16,
   "metadata": {
    "tags": []
   },
   "outputs": [
    {
     "data": {
      "text/plain": [
       "<sqlite3.Cursor at 0x1b495eb58c0>"
      ]
     },
     "execution_count": 16,
     "metadata": {},
     "output_type": "execute_result"
    }
   ],
   "source": [
    "create_table = \"\"\"CREATE TABLE marks(\n",
    "                        ID INTEGER PRIMARY KEY,\n",
    "                        TEST_1 INTEGER,\n",
    "                        Test_2 INTEGER,\n",
    "                        Test_3 INTEGER);\n",
    "                \"\"\"\n",
    "\n",
    "cursor.execute(create_table)"
   ]
  },
  {
   "cell_type": "code",
   "execution_count": 18,
   "metadata": {
    "tags": []
   },
   "outputs": [
    {
     "data": {
      "text/plain": [
       "[]"
      ]
     },
     "execution_count": 18,
     "metadata": {},
     "output_type": "execute_result"
    }
   ],
   "source": [
    "cursor.execute(\"Select * from marks\").fetchall()"
   ]
  },
  {
   "cell_type": "code",
   "execution_count": 21,
   "metadata": {
    "tags": []
   },
   "outputs": [],
   "source": [
    "with open(\"marks.csv\") as f:\n",
    "    data = csv.reader(f)\n",
    "    for row in data:\n",
    "        if row[0]=='ID':\n",
    "            continue\n",
    "        cursor.execute(\"INSERT INTO marks VALUES (?, ?, ?,?)\", (int(row[0]), int(row[1]), int(row[2]), int(row[3])))"
   ]
  },
  {
   "cell_type": "code",
   "execution_count": 23,
   "metadata": {
    "tags": []
   },
   "outputs": [
    {
     "data": {
      "text/plain": [
       "[(122942, 58, 86, 77),\n",
       " (174267, 95, 47, 79),\n",
       " (211134, 80, 81, 55),\n",
       " (223293, 75, 53, 60),\n",
       " (253798, 17, 88, 16),\n",
       " (264676, 26, 53, 58),\n",
       " (329265, 91, 47, 42),\n",
       " (380016, 1, 62, 61),\n",
       " (387423, 31, 65, 76),\n",
       " (399844, 3, 27, 80),\n",
       " (400412, 87, 39, 86),\n",
       " (518833, 32, 35, 29),\n",
       " (650755, 76, 84, 22),\n",
       " (657953, 38, 10, 75),\n",
       " (660198, 69, 17, 12),\n",
       " (669408, 4, 88, 90),\n",
       " (677895, 20, 57, 89),\n",
       " (705400, 12, 40, 69),\n",
       " (784736, 8, 30, 74),\n",
       " (962205, 58, 39, 74)]"
      ]
     },
     "execution_count": 23,
     "metadata": {},
     "output_type": "execute_result"
    }
   ],
   "source": [
    "cursor.execute(\"Select * from marks\").fetchall()"
   ]
  },
  {
   "cell_type": "code",
   "execution_count": 25,
   "metadata": {
    "tags": []
   },
   "outputs": [],
   "source": [
    "con.commit()"
   ]
  },
  {
   "cell_type": "code",
   "execution_count": 27,
   "metadata": {
    "tags": []
   },
   "outputs": [
    {
     "data": {
      "text/plain": [
       "[(122942, 58, 86, 77),\n",
       " (174267, 95, 47, 79),\n",
       " (211134, 80, 81, 55),\n",
       " (223293, 75, 53, 60),\n",
       " (253798, 17, 88, 16),\n",
       " (264676, 26, 53, 58),\n",
       " (329265, 91, 47, 42),\n",
       " (380016, 1, 62, 61),\n",
       " (387423, 31, 65, 76),\n",
       " (399844, 3, 27, 80),\n",
       " (400412, 87, 39, 86),\n",
       " (518833, 32, 35, 29),\n",
       " (650755, 76, 84, 22),\n",
       " (657953, 38, 10, 75),\n",
       " (660198, 69, 17, 12),\n",
       " (669408, 4, 88, 90),\n",
       " (677895, 20, 57, 89),\n",
       " (705400, 12, 40, 69),\n",
       " (784736, 8, 30, 74),\n",
       " (962205, 58, 39, 74)]"
      ]
     },
     "execution_count": 27,
     "metadata": {},
     "output_type": "execute_result"
    }
   ],
   "source": [
    "cursor.execute(\"Select * from marks\").fetchall()"
   ]
  },
  {
   "cell_type": "code",
   "execution_count": null,
   "metadata": {},
   "outputs": [],
   "source": []
  }
 ],
 "metadata": {
  "kernelspec": {
   "display_name": "Python 3 (ipykernel)",
   "language": "python",
   "name": "python3"
  },
  "language_info": {
   "codemirror_mode": {
    "name": "ipython",
    "version": 3
   },
   "file_extension": ".py",
   "mimetype": "text/x-python",
   "name": "python",
   "nbconvert_exporter": "python",
   "pygments_lexer": "ipython3",
   "version": "3.11.4"
  }
 },
 "nbformat": 4,
 "nbformat_minor": 4
}
